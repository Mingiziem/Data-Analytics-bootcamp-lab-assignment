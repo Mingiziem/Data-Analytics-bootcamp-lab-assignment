{
 "cells": [
  {
   "cell_type": "code",
   "execution_count": 3,
   "metadata": {},
   "outputs": [],
   "source": [
    "import math\n"
   ]
  },
  {
   "cell_type": "code",
   "execution_count": 8,
   "metadata": {},
   "outputs": [],
   "source": []
  },
  {
   "cell_type": "code",
   "execution_count": 10,
   "metadata": {},
   "outputs": [
    {
     "name": "stdout",
     "output_type": "stream",
     "text": [
      "True\n",
      "True\n",
      "True\n"
     ]
    }
   ],
   "source": [
    "#Define a method/function that removes from a given array of integers all the values contained in a second array.\n",
    "class List:\n",
    "    \n",
    "    def remove_(self,integer_list, values_list):\n",
    "        new_list=[]\n",
    "        for i in integer_list:\n",
    "            if i not in values_list:\n",
    "                new_list.append(i)\n",
    "        return (new_list)\n",
    "    \n",
    "l=List()\n",
    "integer_list =  [1, 1, 2 ,3 ,1 ,2 ,3 ,4]\n",
    "values_list = [1, 3]\n",
    "print(l.remove_(integer_list, values_list)== [2, 2, 4])\n",
    "\n",
    "integer_list = [1, 1, 2 ,3 ,1 ,2 ,3 ,4, 4, 3 ,5, 6, 7, 2, 8]\n",
    "values_list  = [1, 3, 4, 2]\n",
    "print(l.remove_(integer_list, values_list)== [5, 6 ,7 ,8])\n",
    "\n",
    "integer_list = [8, 2, 7, 2, 3, 4, 6, 5, 4, 4, 1, 2 , 3]\n",
    "values_list  = [2, 4, 3]\n",
    "print(l.remove_(integer_list, values_list)== [8, 7, 6, 5, 1])"
   ]
  },
  {
   "cell_type": "code",
   "execution_count": 11,
   "metadata": {},
   "outputs": [
    {
     "name": "stdout",
     "output_type": "stream",
     "text": [
      "True\n",
      "True\n",
      "True\n",
      "True\n"
     ]
    }
   ],
   "source": [
    "# Challenge 2\n",
    "# Method For Counting Total Occurence Of Specific Digits\n",
    "\n",
    "class List(object):\n",
    "    def count_spec_digits(self,integers_list, digits_list):\n",
    "        # your code here\n",
    "        list_of_tuples=[]\n",
    "        # iterate through digits in digit list\n",
    "        for digit in digits_list:\n",
    "            counter=0\n",
    "            for integer in integers_list:\n",
    "                #iterate through digits of one integer\n",
    "                for int_digit in [int(dig) for dig in list(str(abs(integer)))]:\n",
    "                    if digit ==int_digit:\n",
    "                        counter+=1\n",
    "            list_of_tuples.append(tuple([digit,counter]))\n",
    "        return list_of_tuples\n",
    "l=List()\n",
    "\n",
    "integers_list =  [1, 1, 2 ,3 ,1 ,2 ,3 ,4]\n",
    "digits_list = [1, 3]\n",
    "print(l.count_spec_digits(integers_list, digits_list)==[(1, 3), (3, 2)])\n",
    "\n",
    "integers_list = [-18, -31, 81, -19, 111, -888]\n",
    "digits_list = [1, 8, 4]\n",
    "print(l.count_spec_digits(integers_list, digits_list)==[(1, 7), (8, 5), (4, 0)])\n",
    "\n",
    "integers_list = [-77, -65, 56, -79, 6666, 222]\n",
    "digits_list = [1, 8, 4]\n",
    "print(l.count_spec_digits(integers_list, digits_list)==[(1, 0), (8, 0), (4, 0)])\n",
    "\n",
    "integers_list = []\n",
    "digits_list = [1, 8, 4]\n",
    "print(l.count_spec_digits(integers_list, digits_list)==[(1, 0), (8, 0), (4, 0)])"
   ]
  },
  {
   "cell_type": "code",
   "execution_count": 12,
   "metadata": {},
   "outputs": [
    {
     "name": "stdout",
     "output_type": "stream",
     "text": [
      "True\n"
     ]
    }
   ],
   "source": [
    "##\n",
    "def ordered_count(inp):\n",
    "    lst=list(inp)\n",
    "    counted=[]\n",
    "    output=[]\n",
    "    for letter in lst:\n",
    "        if letter not in counted:\n",
    "            counted.append(letter)\n",
    "            counter=0\n",
    "            for letter2 in lst:\n",
    "                if letter==letter2:\n",
    "                    counter+=1\n",
    "            output.append(tuple([letter,counter]))\n",
    "    return(output)\n",
    "\n",
    "print(ordered_count('abracadabra')==[('a', 5), ('b', 2), ('r', 2), ('c', 1), ('d', 1)])\n"
   ]
  },
  {
   "cell_type": "code",
   "execution_count": null,
   "metadata": {},
   "outputs": [],
   "source": []
  }
 ],
 "metadata": {
  "kernelspec": {
   "display_name": "Python 3",
   "language": "python",
   "name": "python3"
  },
  "language_info": {
   "codemirror_mode": {
    "name": "ipython",
    "version": 3
   },
   "file_extension": ".py",
   "mimetype": "text/x-python",
   "name": "python",
   "nbconvert_exporter": "python",
   "pygments_lexer": "ipython3",
   "version": "3.7.6"
  }
 },
 "nbformat": 4,
 "nbformat_minor": 4
}
