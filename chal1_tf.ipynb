{
 "cells": [
  {
   "cell_type": "code",
   "execution_count": 4,
   "metadata": {},
   "outputs": [
    {
     "name": "stdout",
     "output_type": "stream",
     "text": [
      "Welcome to this calculator!\n",
      "It can add and subtract whole numbers from zero to five\n",
      "Please choose your first number (0 to 5): dsafds\n",
      "What do you want to do? plus or minus: 2323\n",
      "Please choose your second number (0 to 5): ewerw\n",
      "Thanks for using this calculator, goodbye :)\n"
     ]
    }
   ],
   "source": [
    "#Cheated by turning the input into numbers, not sure if allowed\n",
    "print('Welcome to this calculator!')\n",
    "print('It can add and subtract whole numbers from zero to five')\n",
    "a = input('Please choose your first number (0 to 5): ')\n",
    "b = input('What do you want to do? plus or minus: ')\n",
    "c = input('Please choose your second number (0 to 5): ')\n",
    "#functions: nice \n",
    "#It is receiving numbers any greater than 5\n",
    "#It is indeed calculating but not recieving strings \n",
    "#It is sometimes concatenate the operands and operators \n",
    "#create function another more for validation \n",
    "\n",
    "\n",
    "def plus (a,b):\n",
    "    result=int(a)+int(c)\n",
    "    return print(a,\" plus \",c,\"equals: \",result)\n",
    "def minus(a,b):\n",
    "    result1=int(a)-int(c)\n",
    "    return print(a,\" minus \",c,\"equals: \",result1)\n",
    "#main code\n",
    "\n",
    "if b==\"plus\":\n",
    "    plus(a,c)\n",
    "elif b==\"minus\":\n",
    "    minus(a,c)\n",
    "    \n",
    "\n",
    "\n",
    "print(\"Thanks for using this calculator, goodbye :)\")\n"
   ]
  },
  {
   "cell_type": "code",
   "execution_count": null,
   "metadata": {},
   "outputs": [],
   "source": []
  },
  {
   "cell_type": "code",
   "execution_count": null,
   "metadata": {},
   "outputs": [],
   "source": []
  }
 ],
 "metadata": {
  "kernelspec": {
   "display_name": "Python 3",
   "language": "python",
   "name": "python3"
  },
  "language_info": {
   "codemirror_mode": {
    "name": "ipython",
    "version": 3
   },
   "file_extension": ".py",
   "mimetype": "text/x-python",
   "name": "python",
   "nbconvert_exporter": "python",
   "pygments_lexer": "ipython3",
   "version": "3.7.6"
  }
 },
 "nbformat": 4,
 "nbformat_minor": 2
}
