{
 "cells": [
  {
   "cell_type": "markdown",
   "metadata": {},
   "source": [
    "In the cell below, create a Python function that creates a Bag of Words.\n",
    "\n",
    "Requirements:\n",
    "\n",
    "1. Your function should accept the following parameters:\n",
    "    * `corpus` [REQUIRED] - list of strings.\n",
    "    * `stop_words` [OPTIONAL] - array of stop words. The default value is an empty array.\n",
    "\n",
    "1. Your function should return a Python object that contains the following:\n",
    "    * `bag_of_words` - array of strings of normalized unique words in the corpus.\n",
    "    * `term_freq` - array of the term-frequency vectors."
   ]
  },
  {
   "cell_type": "code",
   "execution_count": 7,
   "metadata": {},
   "outputs": [
    {
     "ename": "NameError",
     "evalue": "name 'bag_of_words' is not defined",
     "output_type": "error",
     "traceback": [
      "\u001b[1;31m---------------------------------------------------------------------------\u001b[0m",
      "\u001b[1;31mNameError\u001b[0m                                 Traceback (most recent call last)",
      "\u001b[1;32m<ipython-input-7-7d88bf617a21>\u001b[0m in \u001b[0;36m<module>\u001b[1;34m\u001b[0m\n\u001b[0;32m     12\u001b[0m     \u001b[0mterms\u001b[0m \u001b[1;33m=\u001b[0m \u001b[0mstring\u001b[0m\u001b[1;33m.\u001b[0m\u001b[0msplit\u001b[0m\u001b[1;33m(\u001b[0m\u001b[1;34m' '\u001b[0m\u001b[1;33m)\u001b[0m\u001b[1;33m\u001b[0m\u001b[1;33m\u001b[0m\u001b[0m\n\u001b[0;32m     13\u001b[0m     \u001b[1;32mfor\u001b[0m \u001b[0mterm\u001b[0m \u001b[1;32min\u001b[0m \u001b[0mterms\u001b[0m\u001b[1;33m:\u001b[0m\u001b[1;33m\u001b[0m\u001b[1;33m\u001b[0m\u001b[0m\n\u001b[1;32m---> 14\u001b[1;33m         \u001b[1;32mif\u001b[0m \u001b[0mterm\u001b[0m \u001b[1;32mnot\u001b[0m \u001b[1;32min\u001b[0m \u001b[0mbag_of_words\u001b[0m\u001b[1;33m:\u001b[0m\u001b[1;33m\u001b[0m\u001b[1;33m\u001b[0m\u001b[0m\n\u001b[0m\u001b[0;32m     15\u001b[0m             \u001b[0mbag_of_words\u001b[0m\u001b[1;33m.\u001b[0m\u001b[0mappend\u001b[0m\u001b[1;33m(\u001b[0m\u001b[0mterm\u001b[0m\u001b[1;33m)\u001b[0m\u001b[1;33m\u001b[0m\u001b[1;33m\u001b[0m\u001b[0m\n\u001b[0;32m     16\u001b[0m \u001b[1;33m\u001b[0m\u001b[0m\n",
      "\u001b[1;31mNameError\u001b[0m: name 'bag_of_words' is not defined"
     ]
    }
   ],
   "source": [
    "# Import required libraries\n",
    "\n",
    "# Define function\n",
    "def get_bow_from_docs(corpus, stop_words=[]):\n",
    "    \n",
    "    # In the function, first define the variables you will use such as `corpus`, `bag_of_words`, and `term_freq`.\n",
    "    \n",
    "    \n",
    "    bag_of_words = []\n",
    "\n",
    "for string in corpus:\n",
    "    terms = string.split(' ')\n",
    "    for term in terms:\n",
    "        if term not in bag_of_words:\n",
    "            bag_of_words.append(term)\n",
    "            \n",
    "    \"\"\"\n",
    "    Convert corpus to lowercases and remove punctuation.\n",
    "    \"\"\"\n",
    "\n",
    "    term_freq = []\n",
    "\n",
    "for string in corpus:\n",
    "    freq = []\n",
    "    terms = string.split()\n",
    "    for word in bag_of_words:\n",
    "        freq.append(terms.count(word))\n",
    "    term_freq.append(freq)\n",
    "    \n",
    "    \"\"\"\n",
    "    Loop `corpus`. Append the individual words in each doc into the `bag_of_words` array. The terms in `bag_of_words` \n",
    "    should be unique which means before adding each term you need to check if it's already added to the array.\n",
    "    In addition, check if each term is in the `stop_words` array. Only append the term to `bag_of_words`\n",
    "    if it is not a stop word.\n",
    "    \"\"\"\n",
    "\n",
    "    \n",
    "    \n",
    "    \n",
    "    \"\"\"\n",
    "    Loop `corpus` again. For each doc string, count the number of occurrences of each term in `bag_of_words`. \n",
    "    Create an array for each doc's term frequency and append it to `term_freq`.\n",
    "    \"\"\"\n",
    "\n",
    "    \n",
    "    \n",
    "    # Now return your output as an object\n",
    "    return {\n",
    "        \"bag_of_words\": bag_of_words,\n",
    "        \"term_freq\": term_freq\n",
    "    }\n",
    "    "
   ]
  },
  {
   "cell_type": "markdown",
   "metadata": {},
   "source": [
    "Test your function without stop words. You should see the output like below:\n",
    "\n",
    "```{'bag_of_words': ['ironhack', 'is', 'cool', 'i', 'love', 'am', 'a', 'student', 'at'], 'term_freq': [[1, 1, 1, 0, 0, 0, 0, 0, 0], [1, 0, 0, 1, 1, 0, 0, 0, 0], [1, 0, 0, 1, 0, 1, 1, 1, 1]]}```"
   ]
  },
  {
   "cell_type": "code",
   "execution_count": 6,
   "metadata": {},
   "outputs": [
    {
     "name": "stdout",
     "output_type": "stream",
     "text": [
      "None\n"
     ]
    }
   ],
   "source": [
    "# Define the corpus list\n",
    "corpus = ['Ironhack is Cool!', 'I love Ironhack', 'I am a student at Ironhack.']\n",
    "\n",
    "# Obtain BoW from your function\n",
    "bow = get_bow_from_docs(corpus)\n",
    "\n",
    "# Print BoW\n",
    "print(bow)"
   ]
  },
  {
   "cell_type": "markdown",
   "metadata": {},
   "source": [
    "If your attempt above is successful, nice work done!\n",
    "\n",
    "Now test your function again with the stop words. In the previous lab we defined the stop words in a large array. In this lab, we'll import the stop words from Scikit-Learn."
   ]
  },
  {
   "cell_type": "code",
   "execution_count": 3,
   "metadata": {},
   "outputs": [
    {
     "name": "stdout",
     "output_type": "stream",
     "text": [
      "frozenset({'alone', 'either', 'amount', 'my', 'thereby', 'i', 'now', 'our', 'am', 'fifty', 'what', 'that', 'myself', 'nine', 'we', 'mill', 'across', 'but', 'everything', 'others', 'forty', 'us', 'somehow', 'hers', 'done', 'please', 'in', 'for', 'name', 'seems', 'being', 'full', 'this', 'your', 'otherwise', 'hereby', 'hence', 'however', 'almost', 'front', 'within', 'well', 'these', 'perhaps', 'fifteen', 'many', 'therefore', 'a', 'first', 'at', 'been', 'throughout', 'wherever', 'due', 'ourselves', 'might', 'onto', 'sixty', 'could', 'and', 'nor', 'ie', 'call', 'she', 'show', 'up', 'eg', 'out', 'sometime', 'me', 'her', 'yet', 'among', 'whereas', 'more', 'fire', 'always', 'formerly', 'most', 'any', 're', 'other', 'hundred', 'neither', 'whether', 'behind', 'the', 'before', 'namely', 'herself', 'sometimes', 'under', 'eleven', 'on', 'made', 'whence', 'back', 'two', 'against', 'so', 'interest', 'may', 'no', 'as', 'often', 'above', 'nowhere', 'still', 'becoming', 'after', 'between', 'anyway', 'whoever', 'cry', 'latter', 'inc', 'then', 'those', 'about', 'if', 'through', 'its', 'only', 'every', 'would', 'during', 'beyond', 'besides', 'somewhere', 'cannot', 'serious', 'one', 'per', 'twenty', 'are', 'couldnt', 'here', 'side', 'several', 'thus', 'yourself', 'describe', 'though', 'everywhere', 'anyone', 'since', 'whereupon', 'amongst', 'had', 'hasnt', 'move', 'how', 'again', 'five', 'found', 'find', 'upon', 'third', 'six', 'something', 'whom', 'become', 'yourselves', 'him', 'although', 'into', 'their', 'an', 'eight', 'less', 'from', 'via', 'around', 'once', 'should', 'everyone', 'bottom', 'four', 'get', 'much', 'latterly', 'bill', 'whereby', 'same', 'ltd', 'beforehand', 'such', 'already', 'some', 'un', 'former', 'whole', 'can', 'put', 'empty', 'meanwhile', 'hereupon', 'along', 'moreover', 'by', 'also', 'with', 'must', 'least', 'another', 'you', 'he', 'became', 'together', 'why', 'therein', 'himself', 'where', 'nevertheless', 'has', 'few', 'of', 'off', 'give', 'indeed', 'towards', 'whereafter', 'de', 'next', 'further', 'last', 'elsewhere', 'thru', 'except', 'twelve', 'while', 'or', 'down', 'until', 'enough', 'over', 'go', 'none', 'anything', 'thereupon', 'whither', 'con', 'co', 'each', 'who', 'system', 'cant', 'thin', 'seemed', 'thereafter', 'afterwards', 'his', 'not', 'when', 'else', 'herein', 'will', 'ever', 'they', 'top', 'to', 'keep', 'toward', 'mine', 'ours', 'than', 'nobody', 'mostly', 'thence', 'never', 'beside', 'hereafter', 'seeming', 'do', 'is', 'yours', 'see', 'all', 'three', 'amoungst', 'fill', 'them', 'thick', 'take', 'it', 'whatever', 'etc', 'even', 'which', 'itself', 'nothing', 'wherein', 'be', 'sincere', 'rather', 'was', 'whenever', 'noone', 'whose', 'seem', 'becomes', 'anyhow', 'below', 'because', 'too', 'anywhere', 'someone', 'were', 'part', 'there', 'own', 'have', 'themselves', 'without', 'both', 'ten', 'very', 'detail'})\n"
     ]
    },
    {
     "name": "stderr",
     "output_type": "stream",
     "text": [
      "C:\\Users\\Mingiziem\\anaconda3\\lib\\site-packages\\sklearn\\utils\\deprecation.py:144: FutureWarning: The sklearn.feature_extraction.stop_words module is  deprecated in version 0.22 and will be removed in version 0.24. The corresponding classes / functions should instead be imported from sklearn.feature_extraction.text. Anything that cannot be imported from sklearn.feature_extraction.text is now part of the private API.\n",
      "  warnings.warn(message, FutureWarning)\n"
     ]
    }
   ],
   "source": [
    "from sklearn.feature_extraction import stop_words\n",
    "print(stop_words.ENGLISH_STOP_WORDS)"
   ]
  },
  {
   "cell_type": "markdown",
   "metadata": {},
   "source": [
    "You should have seen a large list of words that looks like:\n",
    "\n",
    "```frozenset({'across', 'mine', 'cannot', ...})```\n",
    "\n",
    "`frozenset` is a type of Python object that is immutable. In this lab you can use it just like an array (list) without conversion."
   ]
  },
  {
   "cell_type": "markdown",
   "metadata": {},
   "source": [
    "Next, test your function with supplying `stop_words.ENGLISH_STOP_WORDS` as the second parameter."
   ]
  },
  {
   "cell_type": "code",
   "execution_count": 5,
   "metadata": {},
   "outputs": [
    {
     "name": "stdout",
     "output_type": "stream",
     "text": [
      "None\n"
     ]
    }
   ],
   "source": [
    "bow = get_bow_from_docs(bow, stop_words.ENGLISH_STOP_WORDS)\n",
    "\n",
    "print(bow)"
   ]
  },
  {
   "cell_type": "markdown",
   "metadata": {},
   "source": [
    "You should have seen:\n",
    "\n",
    "```{'bag_of_words': ['ironhack', 'cool', 'love', 'student'], 'term_freq': [[1, 1, 0, 0], [1, 0, 1, 0], [1, 0, 0, 1]]}```"
   ]
  },
  {
   "cell_type": "code",
   "execution_count": null,
   "metadata": {},
   "outputs": [],
   "source": []
  }
 ],
 "metadata": {
  "kernelspec": {
   "display_name": "Python 3",
   "language": "python",
   "name": "python3"
  },
  "language_info": {
   "codemirror_mode": {
    "name": "ipython",
    "version": 3
   },
   "file_extension": ".py",
   "mimetype": "text/x-python",
   "name": "python",
   "nbconvert_exporter": "python",
   "pygments_lexer": "ipython3",
   "version": "3.7.6"
  }
 },
 "nbformat": 4,
 "nbformat_minor": 2
}
